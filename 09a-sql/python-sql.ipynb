{
 "cells": [
  {
   "cell_type": "markdown",
   "metadata": {},
   "source": [
    "# Breakout Problems"
   ]
  },
  {
   "cell_type": "markdown",
   "metadata": {},
   "source": [
    "# INTRODUCTION TO SQL\n",
    "\n",
    "In this intro to SQL you can either use an SQL online editor (or sqlite3 with pandas in this notebook): \n",
    "\n",
    "### [https://www.w3schools.com/sql/trysql.asp?filename=trysql_select_all](https://www.w3schools.com/sql/trysql.asp?filename=trysql_select_all)\n",
    "\n",
    "There are already some tables in the online Database, namely: \n",
    "\n",
    "\tCategories, Employees, OrderDetails\t, Orders, Products, Shippers, and Suppliers. \n",
    "\n",
    "We are not going to use them, and if you want you can drop them by running `DROP TABLE [table-name];`\n",
    "\n",
    "\n",
    "\n",
    "## Exercises: Let's play with Dogs (& SQL)\n",
    "\n",
    "First create a table called parents. It has two columns: 'parent' and 'child'. The first column indicates the parent of the child in the second column. We will use a new form of `CREATE TABLE` expression to produce this table.\n",
    "\n",
    "\tCREATE TABLE parents AS\n",
    "\t  SELECT \"abraham\" AS parent, \"barack\" AS child UNION\n",
    "\t  SELECT \"abraham\",           \"clinton\"         UNION\n",
    "\t  SELECT \"delano\",            \"herbert\"         UNION\n",
    "\t  SELECT \"fillmore\",          \"abraham\"         UNION\n",
    "\t  SELECT \"fillmore\",          \"delano\"          UNION\n",
    "\t  SELECT \"fillmore\",          \"grover\"          UNION\n",
    "\t  SELECT \"eisenhower\",        \"fillmore\";\n",
    "\t  \n",
    "\n",
    "### Picture of the Dog Family Tree (illustration of parents table)\n",
    "\n",
    "(A = abrham, B = barack, etc.)\n",
    "\n",
    "<center><img src=\"https://github.com/alexanderfo/data-x_public/raw/master/L13_SQL/imgs/family_tree.png\" width=\"200\" /></center>\n",
    "\t  \n",
    "## Q1 Simple SELECTS (on the parents table)\n",
    "1. SELECT all records in the table.\n",
    "2. SELECT child and parent, where abraham is the parent.\n",
    "3. SELECT all children that have an 'e' in their name (hint: use LIKE and '%e%').\n",
    "4. SELECT all unique parents (use SELECT DISTINCT) and order them by name, descending order (i.e. fillmore first)\n",
    "5. **Difficult***: SELECT all dogs that are siblings (one-to-one relations). Only show a sibling pair once. To do this you need to select two times from the parents table.\n",
    "\n",
    "## Q2 Joins\n",
    "\n",
    "Create a new table called dogs, which indicates the fur type of every dog. In the image above: long haired dogs = red dashed box, curly haired dogs = black fluffy box, and short haired dogs = grey dotted box. \n",
    "\n",
    "Create the table by running:\n",
    "\t\n",
    "\tCREATE TABLE dogs AS\n",
    "\t  SELECT \"abraham\" AS name, \"long\" AS fur UNION\n",
    "\t  SELECT \"barack\",          \"short\"       UNION\n",
    "\t  SELECT \"clinton\",         \"long\"        UNION\n",
    "\t  SELECT \"delano\",          \"long\"        UNION\n",
    "\t  SELECT \"eisenhower\",      \"short\"       UNION\n",
    "\t  SELECT \"fillmore\",        \"curly\"       UNION\n",
    "\t  SELECT \"grover\",          \"short\"       UNION\n",
    "\t  SELECT \"herbert\",         \"curly\";\n",
    "\n",
    "1. COUNT the number of short haired dogs\n",
    "2. JOIN tables parents and dogs and SELECT the parents of curly dogs.\n",
    "2. **Difficult**: JOIN tables parents and dogs, and SELECT the parents and children that have the same fur type. Only show them once.\n",
    "\n",
    "\n",
    "## Q3 Aggregate functions, numerical logic and grouping\n",
    "\n",
    "Create a new table with many different animals. The table includes the animal's kind, number of legs and weight. Create it by running:\n",
    "\n",
    "\tcreate table animals as\n",
    "\t select \"dog\" as kind, 4 as legs, 20 as weight union\n",
    "\t select \"cat\" , 4 , 10 union\n",
    "\t select \"ferret\" , 4 , 10 union\n",
    "\t select \"parrot\" , 2 , 6 union\n",
    "\t select \"penguin\" , 2 , 10 union\n",
    "\tselect \"t-rex\" , 2 , 12000;\n",
    "\t\n",
    "1. SELECT the animal with the minimum weight. Display kind and min_weight.\n",
    "2. Use aggregate function AVG to display a table with the average number of legs and the average weight.\n",
    "3. SELECT the animal kind(s) that have more than two legs, but weighs less than 20. Display kind, weight, legs.\n",
    "4. SELECT the average weight for all the animals with 2 legs and the animals with 4 legs (by using GROUP BY).\n",
    "\n",
    ".\n",
    "\n",
    "\n",
    "*These exercises are inspired by the Lectures in CS61A (Fall 2014).*\n"
   ]
  },
  {
   "cell_type": "code",
   "execution_count": null,
   "metadata": {
    "collapsed": true,
    "jupyter": {
     "outputs_hidden": true
    }
   },
   "outputs": [],
   "source": [
    "# You can also solve it in Python using sqlite3 and pandas\n",
    "\n",
    "import sqlite3\n",
    "\n",
    "connection = sqlite3.connect('breakout.db')\n",
    "\n",
    "cursor = connection.cursor()"
   ]
  },
  {
   "cell_type": "code",
   "execution_count": null,
   "metadata": {
    "collapsed": true,
    "jupyter": {
     "outputs_hidden": true
    }
   },
   "outputs": [],
   "source": [
    "cursor.execute('DROP TABLE IF EXISTS parents')"
   ]
  },
  {
   "cell_type": "code",
   "execution_count": null,
   "metadata": {
    "collapsed": true,
    "jupyter": {
     "outputs_hidden": true
    }
   },
   "outputs": [],
   "source": [
    "# Create the table\n",
    "sql_command = '''\n",
    "CREATE TABLE parents AS\n",
    "  SELECT \"abraham\" AS parent, \"barack\" AS child UNION\n",
    "  SELECT \"abraham\",           \"clinton\"         UNION\n",
    "  SELECT \"delano\",            \"herbert\"         UNION\n",
    "  SELECT \"fillmore\",          \"abraham\"         UNION\n",
    "  SELECT \"fillmore\",          \"delano\"          UNION\n",
    "  SELECT \"fillmore\",          \"grover\"          UNION\n",
    "  SELECT \"eisenhower\",        \"fillmore\";\n",
    "'''\n",
    "\n",
    "cursor.execute(sql_command)"
   ]
  },
  {
   "cell_type": "code",
   "execution_count": null,
   "metadata": {
    "collapsed": true,
    "jupyter": {
     "outputs_hidden": true
    }
   },
   "outputs": [],
   "source": [
    "connection.commit()"
   ]
  },
  {
   "cell_type": "markdown",
   "metadata": {},
   "source": [
    "# Q1 Simple SELECTS (on the parents table)\n",
    "* 1: SELECT all records in the table.\n",
    "* 2: SELECT child and parent, where abraham is the parent.\n",
    "* 3: SELECT all children that have an 'e' in their name (hint: use LIKE and '%e%').\n",
    "* 4: SELECT all unique parents (use SELECT DISTINCT) and order them by name, descending order (i.e. fillmore first)\n",
    "* 5: **Difficult***: SELECT all dogs that are siblings (one-to-one relations). Only show a sibling pair once. To do this you need to select two times from the parents table."
   ]
  },
  {
   "cell_type": "code",
   "execution_count": null,
   "metadata": {
    "collapsed": true,
    "jupyter": {
     "outputs_hidden": true
    }
   },
   "outputs": [],
   "source": []
  },
  {
   "cell_type": "code",
   "execution_count": null,
   "metadata": {
    "collapsed": true,
    "jupyter": {
     "outputs_hidden": true
    }
   },
   "outputs": [],
   "source": []
  },
  {
   "cell_type": "code",
   "execution_count": null,
   "metadata": {
    "collapsed": true,
    "jupyter": {
     "outputs_hidden": true
    }
   },
   "outputs": [],
   "source": []
  },
  {
   "cell_type": "code",
   "execution_count": null,
   "metadata": {
    "collapsed": true,
    "jupyter": {
     "outputs_hidden": true
    }
   },
   "outputs": [],
   "source": [
    "# 1.\n",
    "pd.read_sql_query('SELECT Count(*) FROM dogs WHERE fur=\"short\"',connection)"
   ]
  },
  {
   "cell_type": "markdown",
   "metadata": {},
   "source": [
    "\n",
    "## Q3 Aggregate functions, numerical logic and grouping\n",
    "\n",
    "Create a new table with many different animals. The table includes the animal's kind, number of legs and weight. Create it by running:\n",
    "\n",
    "\tcreate table animals as\n",
    "\t select \"dog\" as kind, 4 as legs, 20 as weight union\n",
    "\t select \"cat\" , 4 , 10 union\n",
    "\t select \"ferret\" , 4 , 10 union\n",
    "\t select \"parrot\" , 2 , 6 union\n",
    "\t select \"penguin\" , 2 , 10 union\n",
    "\tselect \"t-rex\" , 2 , 12000;\n",
    "\t\n",
    "1. SELECT the animal with the minimum weight. Display kind and min_weight.\n",
    "2. Use aggregate function AVG to display a table with the average number of legs and the average weight.\n",
    "3. SELECT the animal kind(s) that have more than two legs, but weighs less than 20. Display kind, weight, legs.\n",
    "4. SELECT the average weight for all the animals with 2 legs and the animals with 4 legs (by using GROUP BY).\n",
    "\n",
    "."
   ]
  }
 ],
 "metadata": {
  "anaconda-cloud": {},
  "kernelspec": {
   "display_name": "Python 3",
   "language": "python",
   "name": "python3"
  },
  "language_info": {
   "codemirror_mode": {
    "name": "ipython",
    "version": 3
   },
   "file_extension": ".py",
   "mimetype": "text/x-python",
   "name": "python",
   "nbconvert_exporter": "python",
   "pygments_lexer": "ipython3",
   "version": "3.8.3"
  }
 },
 "nbformat": 4,
 "nbformat_minor": 4
}
